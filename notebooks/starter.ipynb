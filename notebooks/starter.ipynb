{
 "cells": [
  {
   "cell_type": "code",
   "execution_count": null,
   "metadata": {},
   "outputs": [],
   "source": [
    "# Imports\n",
    "import matplotlib.pyplot as plt\n",
    "\n",
    "import sys\n",
    "sys.path.append(\"../code/\")\n",
    "\n",
    "from utils import load_metadata, load_record"
   ]
  },
  {
   "cell_type": "code",
   "execution_count": null,
   "metadata": {},
   "outputs": [],
   "source": [
    "train_meta = load_metadata(\"train\")\n",
    "valid_meta = load_metadata(\"validation\")"
   ]
  },
  {
   "cell_type": "code",
   "execution_count": null,
   "metadata": {},
   "outputs": [],
   "source": [
    "img, mask = load_record(train_meta[0][\"record_id\"])"
   ]
  },
  {
   "cell_type": "code",
   "execution_count": null,
   "metadata": {},
   "outputs": [],
   "source": [
    "fig, axs = plt.subplots(1, 2, figsize=(8, 4))\n",
    "axs[0].imshow(img)\n",
    "axs[1].imshow(mask)"
   ]
  },
  {
   "cell_type": "code",
   "execution_count": 1,
   "metadata": {},
   "outputs": [
    {
     "name": "stdout",
     "output_type": "stream",
     "text": [
      "06/23/2023 00:42:47 - INFO - __main__ - Distributed environment: MULTI_GPU  Backend: nccl\n",
      "Num processes: 2\n",
      "Process index: 1\n",
      "Local process index: 1\n",
      "Device: cuda:1\n",
      "Mixed precision type: no\n",
      "\n",
      "06/23/2023 00:42:47 - INFO - __main__ - Distributed environment: MULTI_GPU  Backend: nccl\n",
      "Num processes: 2\n",
      "Process index: 0\n",
      "Local process index: 0\n",
      "Device: cuda:0\n",
      "Mixed precision type: no\n",
      "\n",
      "\u001b[34m\u001b[1mwandb\u001b[0m: Currently logged in as: \u001b[33mromainlhardymids\u001b[0m. Use \u001b[1m`wandb login --relogin`\u001b[0m to force relogin\n",
      "\u001b[34m\u001b[1mwandb\u001b[0m: wandb version 0.15.4 is available!  To upgrade, please run:\n",
      "\u001b[34m\u001b[1mwandb\u001b[0m:  $ pip install wandb --upgrade\n",
      "\u001b[34m\u001b[1mwandb\u001b[0m: Tracking run with wandb version 0.13.10\n",
      "\u001b[34m\u001b[1mwandb\u001b[0m: Run data is saved locally in \u001b[35m\u001b[1m/home/romainlhardy/kaggle/contrails/notebooks/wandb/run-20230623_004250-ub42laxj\u001b[0m\n",
      "\u001b[34m\u001b[1mwandb\u001b[0m: Run \u001b[1m`wandb offline`\u001b[0m to turn off syncing.\n",
      "\u001b[34m\u001b[1mwandb\u001b[0m: Syncing run \u001b[33mbackbone_efficientnet-b3__timestamp_1687506167727\u001b[0m\n",
      "\u001b[34m\u001b[1mwandb\u001b[0m: ⭐️ View project at \u001b[34m\u001b[4mhttps://wandb.ai/romainlhardymids/contrails\u001b[0m\n",
      "\u001b[34m\u001b[1mwandb\u001b[0m: 🚀 View run at \u001b[34m\u001b[4mhttps://wandb.ai/romainlhardymids/contrails/runs/ub42laxj\u001b[0m\n",
      "06/23/2023 00:46:52 - INFO - accelerate.accelerator - Saving current state to ../models/backbone_efficientnet-b3__timestamp_1687506167727/checkpoint-1000\n",
      "06/23/2023 00:46:52 - INFO - accelerate.checkpointing - Model weights saved in ../models/backbone_efficientnet-b3__timestamp_1687506167727/checkpoint-1000/pytorch_model.bin\n",
      "06/23/2023 00:46:53 - INFO - accelerate.checkpointing - Optimizer state saved in ../models/backbone_efficientnet-b3__timestamp_1687506167727/checkpoint-1000/optimizer.bin\n",
      "06/23/2023 00:46:53 - INFO - accelerate.checkpointing - Random states saved in ../models/backbone_efficientnet-b3__timestamp_1687506167727/checkpoint-1000/random_states_0.pkl\n",
      "06/23/2023 00:46:53 - INFO - __main__ - Saved accelerator state to ../models/backbone_efficientnet-b3__timestamp_1687506167727/checkpoint-1000\n",
      "06/23/2023 00:50:54 - INFO - accelerate.accelerator - Saving current state to ../models/backbone_efficientnet-b3__timestamp_1687506167727/checkpoint-2000\n",
      "06/23/2023 00:50:54 - INFO - accelerate.checkpointing - Model weights saved in ../models/backbone_efficientnet-b3__timestamp_1687506167727/checkpoint-2000/pytorch_model.bin\n",
      "06/23/2023 00:50:54 - INFO - accelerate.checkpointing - Optimizer state saved in ../models/backbone_efficientnet-b3__timestamp_1687506167727/checkpoint-2000/optimizer.bin\n",
      "06/23/2023 00:50:54 - INFO - accelerate.checkpointing - Random states saved in ../models/backbone_efficientnet-b3__timestamp_1687506167727/checkpoint-2000/random_states_0.pkl\n",
      "06/23/2023 00:50:54 - INFO - __main__ - Saved accelerator state to ../models/backbone_efficientnet-b3__timestamp_1687506167727/checkpoint-2000\n",
      "06/23/2023 00:55:06 - INFO - accelerate.accelerator - Saving current state to ../models/backbone_efficientnet-b3__timestamp_1687506167727/checkpoint-3000\n",
      "06/23/2023 00:55:06 - INFO - accelerate.checkpointing - Model weights saved in ../models/backbone_efficientnet-b3__timestamp_1687506167727/checkpoint-3000/pytorch_model.bin\n",
      "06/23/2023 00:55:06 - INFO - accelerate.checkpointing - Optimizer state saved in ../models/backbone_efficientnet-b3__timestamp_1687506167727/checkpoint-3000/optimizer.bin\n",
      "06/23/2023 00:55:06 - INFO - accelerate.checkpointing - Random states saved in ../models/backbone_efficientnet-b3__timestamp_1687506167727/checkpoint-3000/random_states_0.pkl\n",
      "06/23/2023 00:55:06 - INFO - __main__ - Saved accelerator state to ../models/backbone_efficientnet-b3__timestamp_1687506167727/checkpoint-3000\n",
      "06/23/2023 00:59:16 - INFO - accelerate.accelerator - Saving current state to ../models/backbone_efficientnet-b3__timestamp_1687506167727/checkpoint-4000\n",
      "06/23/2023 00:59:16 - INFO - accelerate.checkpointing - Model weights saved in ../models/backbone_efficientnet-b3__timestamp_1687506167727/checkpoint-4000/pytorch_model.bin\n",
      "06/23/2023 00:59:16 - INFO - accelerate.checkpointing - Optimizer state saved in ../models/backbone_efficientnet-b3__timestamp_1687506167727/checkpoint-4000/optimizer.bin\n",
      "06/23/2023 00:59:16 - INFO - accelerate.checkpointing - Random states saved in ../models/backbone_efficientnet-b3__timestamp_1687506167727/checkpoint-4000/random_states_0.pkl\n",
      "06/23/2023 00:59:16 - INFO - __main__ - Saved accelerator state to ../models/backbone_efficientnet-b3__timestamp_1687506167727/checkpoint-4000\n",
      "06/23/2023 01:03:25 - INFO - accelerate.accelerator - Saving current state to ../models/backbone_efficientnet-b3__timestamp_1687506167727/checkpoint-5000\n",
      "06/23/2023 01:03:25 - INFO - accelerate.checkpointing - Model weights saved in ../models/backbone_efficientnet-b3__timestamp_1687506167727/checkpoint-5000/pytorch_model.bin\n",
      "06/23/2023 01:03:25 - INFO - accelerate.checkpointing - Optimizer state saved in ../models/backbone_efficientnet-b3__timestamp_1687506167727/checkpoint-5000/optimizer.bin\n",
      "06/23/2023 01:03:25 - INFO - accelerate.checkpointing - Random states saved in ../models/backbone_efficientnet-b3__timestamp_1687506167727/checkpoint-5000/random_states_0.pkl\n",
      "06/23/2023 01:03:25 - INFO - __main__ - Saved accelerator state to ../models/backbone_efficientnet-b3__timestamp_1687506167727/checkpoint-5000\n",
      "06/23/2023 01:07:24 - INFO - accelerate.accelerator - Saving current state to ../models/backbone_efficientnet-b3__timestamp_1687506167727/checkpoint-6000\n",
      "06/23/2023 01:07:24 - INFO - accelerate.checkpointing - Model weights saved in ../models/backbone_efficientnet-b3__timestamp_1687506167727/checkpoint-6000/pytorch_model.bin\n",
      "06/23/2023 01:07:24 - INFO - accelerate.checkpointing - Optimizer state saved in ../models/backbone_efficientnet-b3__timestamp_1687506167727/checkpoint-6000/optimizer.bin\n",
      "06/23/2023 01:07:24 - INFO - accelerate.checkpointing - Random states saved in ../models/backbone_efficientnet-b3__timestamp_1687506167727/checkpoint-6000/random_states_0.pkl\n",
      "06/23/2023 01:07:24 - INFO - __main__ - Saved accelerator state to ../models/backbone_efficientnet-b3__timestamp_1687506167727/checkpoint-6000\n",
      "06/23/2023 01:11:23 - INFO - accelerate.accelerator - Saving current state to ../models/backbone_efficientnet-b3__timestamp_1687506167727/checkpoint-7000\n",
      "06/23/2023 01:11:23 - INFO - accelerate.checkpointing - Model weights saved in ../models/backbone_efficientnet-b3__timestamp_1687506167727/checkpoint-7000/pytorch_model.bin\n",
      "06/23/2023 01:11:23 - INFO - accelerate.checkpointing - Optimizer state saved in ../models/backbone_efficientnet-b3__timestamp_1687506167727/checkpoint-7000/optimizer.bin\n",
      "06/23/2023 01:11:23 - INFO - accelerate.checkpointing - Random states saved in ../models/backbone_efficientnet-b3__timestamp_1687506167727/checkpoint-7000/random_states_0.pkl\n",
      "06/23/2023 01:11:23 - INFO - __main__ - Saved accelerator state to ../models/backbone_efficientnet-b3__timestamp_1687506167727/checkpoint-7000\n",
      "06/23/2023 01:15:22 - INFO - accelerate.accelerator - Saving current state to ../models/backbone_efficientnet-b3__timestamp_1687506167727/checkpoint-8000\n",
      "06/23/2023 01:15:22 - INFO - accelerate.checkpointing - Model weights saved in ../models/backbone_efficientnet-b3__timestamp_1687506167727/checkpoint-8000/pytorch_model.bin\n",
      "06/23/2023 01:15:22 - INFO - accelerate.checkpointing - Optimizer state saved in ../models/backbone_efficientnet-b3__timestamp_1687506167727/checkpoint-8000/optimizer.bin\n",
      "06/23/2023 01:15:22 - INFO - accelerate.checkpointing - Random states saved in ../models/backbone_efficientnet-b3__timestamp_1687506167727/checkpoint-8000/random_states_0.pkl\n",
      "06/23/2023 01:15:22 - INFO - __main__ - Saved accelerator state to ../models/backbone_efficientnet-b3__timestamp_1687506167727/checkpoint-8000\n",
      "06/23/2023 01:19:22 - INFO - accelerate.accelerator - Saving current state to ../models/backbone_efficientnet-b3__timestamp_1687506167727/checkpoint-9000\n",
      "06/23/2023 01:19:22 - INFO - accelerate.checkpointing - Model weights saved in ../models/backbone_efficientnet-b3__timestamp_1687506167727/checkpoint-9000/pytorch_model.bin\n",
      "06/23/2023 01:19:22 - INFO - accelerate.checkpointing - Optimizer state saved in ../models/backbone_efficientnet-b3__timestamp_1687506167727/checkpoint-9000/optimizer.bin\n",
      "06/23/2023 01:19:22 - INFO - accelerate.checkpointing - Random states saved in ../models/backbone_efficientnet-b3__timestamp_1687506167727/checkpoint-9000/random_states_0.pkl\n",
      "06/23/2023 01:19:22 - INFO - __main__ - Saved accelerator state to ../models/backbone_efficientnet-b3__timestamp_1687506167727/checkpoint-9000\n",
      "06/23/2023 01:23:21 - INFO - accelerate.accelerator - Saving current state to ../models/backbone_efficientnet-b3__timestamp_1687506167727/checkpoint-10000\n",
      "06/23/2023 01:23:21 - INFO - accelerate.checkpointing - Model weights saved in ../models/backbone_efficientnet-b3__timestamp_1687506167727/checkpoint-10000/pytorch_model.bin\n",
      "06/23/2023 01:23:21 - INFO - accelerate.checkpointing - Optimizer state saved in ../models/backbone_efficientnet-b3__timestamp_1687506167727/checkpoint-10000/optimizer.bin\n",
      "06/23/2023 01:23:21 - INFO - accelerate.checkpointing - Random states saved in ../models/backbone_efficientnet-b3__timestamp_1687506167727/checkpoint-10000/random_states_0.pkl\n",
      "06/23/2023 01:23:21 - INFO - __main__ - Saved accelerator state to ../models/backbone_efficientnet-b3__timestamp_1687506167727/checkpoint-10000\n",
      "\u001b[34m\u001b[1mwandb\u001b[0m: Waiting for W&B process to finish... \u001b[32m(success).\u001b[0m\n",
      "\u001b[34m\u001b[1mwandb\u001b[0m: \n",
      "\u001b[34m\u001b[1mwandb\u001b[0m: Run history:\n",
      "\u001b[34m\u001b[1mwandb\u001b[0m:          learning_rate ▃▅███████▇▇▇▇▇▆▆▆▆▅▅▅▄▄▄▃▃▃▃▂▂▂▂▂▁▁▁▁▁▁▁\n",
      "\u001b[34m\u001b[1mwandb\u001b[0m:             train_loss █▄▂▂▁▁▁▁▁▁▁▁▁▁▁▁▁▁▁▁▁▁▁▁▁▁▁▁▁▁▁▁▁▁▁▁▁▁▁▁\n",
      "\u001b[34m\u001b[1mwandb\u001b[0m:         valid_bce_loss █▃▁▁▁▁▁▁▁▁▁▁▁▁▁▁▁▁▁▁▁▁▁▁▁▁▁▁▁▁▁▁▁▁▁▁▁▁▁▁\n",
      "\u001b[34m\u001b[1mwandb\u001b[0m:        valid_dice_loss ██▇▇▆▅▅▄▄▃▃▃▃▂▂▂▂▂▁▂▁▁▁▁▁▁▁▁▁▁▁▁▁▁▁▁▁▁▁▁\n",
      "\u001b[34m\u001b[1mwandb\u001b[0m: valid_global_dice_coef ▁▁▂▄▅▆▇▇▇████████▇██████████████████████\n",
      "\u001b[34m\u001b[1mwandb\u001b[0m:             valid_loss █▄▃▂▂▂▂▂▁▁▁▁▁▁▁▁▁▁▁▁▁▁▁▁▁▁▁▁▁▁▁▁▁▁▁▁▁▁▁▁\n",
      "\u001b[34m\u001b[1mwandb\u001b[0m: \n",
      "\u001b[34m\u001b[1mwandb\u001b[0m: Run summary:\n",
      "\u001b[34m\u001b[1mwandb\u001b[0m:          learning_rate 0.0\n",
      "\u001b[34m\u001b[1mwandb\u001b[0m:             train_loss 0.00626\n",
      "\u001b[34m\u001b[1mwandb\u001b[0m:         valid_bce_loss 0.00643\n",
      "\u001b[34m\u001b[1mwandb\u001b[0m:        valid_dice_loss 0.89318\n",
      "\u001b[34m\u001b[1mwandb\u001b[0m: valid_global_dice_coef 0.55267\n",
      "\u001b[34m\u001b[1mwandb\u001b[0m:             valid_loss 0.44981\n",
      "\u001b[34m\u001b[1mwandb\u001b[0m: \n",
      "\u001b[34m\u001b[1mwandb\u001b[0m: 🚀 View run \u001b[33mbackbone_efficientnet-b3__timestamp_1687506167727\u001b[0m at: \u001b[34m\u001b[4mhttps://wandb.ai/romainlhardymids/contrails/runs/ub42laxj\u001b[0m\n",
      "\u001b[34m\u001b[1mwandb\u001b[0m: Synced 5 W&B file(s), 0 media file(s), 0 artifact file(s) and 0 other file(s)\n",
      "\u001b[34m\u001b[1mwandb\u001b[0m: Find logs at: \u001b[35m\u001b[1m./wandb/run-20230623_004250-ub42laxj/logs\u001b[0m\n"
     ]
    }
   ],
   "source": [
    "# Run experiment\n",
    "!accelerate launch ../code/segmentation.py --config_path=\"../configs/config.yaml\""
   ]
  },
  {
   "cell_type": "code",
   "execution_count": null,
   "metadata": {},
   "outputs": [],
   "source": [
    "import torch\n",
    "\n",
    "def get_dice_score(prob, target, epsilon=1e-9):\n",
    "    p0 = prob\n",
    "    g0 = target\n",
    "    p1 = 1. - p0\n",
    "    g1 = 1. - g0\n",
    "    tp = (p0 * g0).sum(dim=(2, 3))\n",
    "    fp = (p0 * g1).sum(dim=(2, 3))\n",
    "    fn = (p1 * g0).sum(dim=(2, 3))\n",
    "    num = 2. * tp\n",
    "    denom = 2. * tp + fp + fn + epsilon\n",
    "    dice_score = num / denom\n",
    "    return dice_score\n",
    "\n",
    "p = torch.randn(16, 1, 256, 256)\n",
    "t = torch.randn(16, 1, 256, 256)\n",
    "\n",
    "get_dice_score(p, t)"
   ]
  }
 ],
 "metadata": {
  "kernelspec": {
   "display_name": "Python 3",
   "language": "python",
   "name": "python3"
  },
  "language_info": {
   "codemirror_mode": {
    "name": "ipython",
    "version": 3
   },
   "file_extension": ".py",
   "mimetype": "text/x-python",
   "name": "python",
   "nbconvert_exporter": "python",
   "pygments_lexer": "ipython3",
   "version": "3.10.6"
  },
  "orig_nbformat": 4
 },
 "nbformat": 4,
 "nbformat_minor": 2
}
